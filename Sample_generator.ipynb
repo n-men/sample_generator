{
 "cells": [
  {
   "cell_type": "code",
   "execution_count": 359,
   "metadata": {},
   "outputs": [],
   "source": [
    "import cv2\n",
    "import numpy as np\n",
    "import pandas as pd\n",
    "import random\n",
    "#from matplotlib import pyplot as plt\n",
    "\n",
    "pairs_count = 100\n",
    "mask_file = 'IMG_1119_mask.jpg'\n",
    "image_file = 'IMG_1119.JPG'\n",
    "folder_to_save = 'images/'"
   ]
  },
  {
   "cell_type": "code",
   "execution_count": 360,
   "metadata": {},
   "outputs": [],
   "source": [
    "# generate Random Point on a picture - define left top angle of cropped image\n",
    "# define range of possible values for the side of the square\n",
    "def generate_random_point(page_extr, detail_extr, image):\n",
    "\n",
    "    # random point should be to the left from the detail and higher than the detail\n",
    "    rp_col = random.randint(page_extr.loc['left']['col'], detail_extr.loc['left']['col'])\n",
    "    rp_row = random.randint(page_extr.loc['top']['row'], detail_extr.loc['top']['row'])\n",
    "    min_side = max(detail_extr.loc['right']['col'] - rp_col, detail_extr.loc['bot']['row'] - rp_row)\n",
    "    max_side = min(page_extr.loc['right']['col'] - rp_col, page_extr.loc['bot']['row'] - rp_row)\n",
    "    \n",
    "    # it must be possible to construct a square inside the image, starting from random point\n",
    "    # random point must be inside the image itself\n",
    "    # a square must iclude the whole detail\n",
    "    while (max_side <= min_side) \\\n",
    "    or (image[rp_row, rp_col] <> 0) \\\n",
    "    or (image[rp_row, rp_col + min_side] <> 0) \\\n",
    "    or (image[rp_row + min_side, rp_col] <> 0) \\\n",
    "    or (image[rp_row + min_side, rp_col + min_side] <> 0):\n",
    "\n",
    "        rp_col = random.randint(page_extr.loc['left']['col'], detail_extr.loc['left']['col'])\n",
    "        rp_row = random.randint(page_extr.loc['top']['row'], detail_extr.loc['top']['row'])\n",
    "\n",
    "        min_side = max(detail_extr.loc['right']['col'] - rp_col, detail_extr.loc['bot']['row'] - rp_row)\n",
    "        max_side = min(page_extr.loc['right']['col'] - rp_col, page_extr.loc['bot']['row'] - rp_row)\n",
    "\n",
    "    return rp_col, rp_row, min_side, max_side"
   ]
  },
  {
   "cell_type": "code",
   "execution_count": 361,
   "metadata": {},
   "outputs": [],
   "source": [
    "# generate random side of the square to crop\n",
    "def generate_random_side(image, rp_row, rp_col, min_side, max_side):\n",
    "    r_side = random.randint(min_side, max_side)\n",
    "    \n",
    "    # searching for the random size of square side, based on the condition:\n",
    "    # all of the angles of cropped square must be inside the image\n",
    "    while (image[rp_row, rp_col+r_side] <> 0) \\\n",
    "    or (image[rp_row+r_side, rp_col+r_side] <> 0) \\\n",
    "    or (image[rp_row+r_side, rp_col] <> 0):\n",
    "        r_side = random.randint(min_side, max_side)\n",
    "\n",
    "    return r_side"
   ]
  },
  {
   "cell_type": "code",
   "execution_count": 362,
   "metadata": {},
   "outputs": [],
   "source": [
    "def empty_coordinates_dataframe():\n",
    "    columns = ['row', 'col']\n",
    "    index = ['left', 'right', 'top', 'bot']\n",
    "    return pd.DataFrame(index=index, columns=columns)"
   ]
  },
  {
   "cell_type": "code",
   "execution_count": 363,
   "metadata": {},
   "outputs": [],
   "source": [
    "# count extreme values of the area of the specified color\n",
    "def get_extremes(image, color):\n",
    "    pixels_array = np.argwhere(image == color)\n",
    "    extr_arr = empty_coordinates_dataframe()\n",
    "    extr_arr.set_value('left','col',pixels_array[:,1].min())\n",
    "    extr_arr.set_value('right','col',pixels_array[:,1].max())\n",
    "    extr_arr.set_value('top','row',pixels_array[:,0].min())\n",
    "    extr_arr.set_value('bot','row',pixels_array[:,0].max())\n",
    "    return extr_arr"
   ]
  },
  {
   "cell_type": "code",
   "execution_count": 364,
   "metadata": {},
   "outputs": [],
   "source": [
    "def search_crop_parameters(image):\n",
    "    \n",
    "    # find extremes for the page and for the detail\n",
    "    # the page area is identified by black pixels\n",
    "    page_extr = get_extremes(image, 0)\n",
    "    # the detail area is identified by white pixels\n",
    "    detail_extr = get_extremes(image, 255)\n",
    "\n",
    "    rp_col, rp_row, min_side, max_side = generate_random_point(page_extr, detail_extr, image)\n",
    "    r_side = generate_random_side(image, rp_row, rp_col, min_side, max_side)\n",
    " \n",
    "    return rp_row, rp_col, r_side"
   ]
  },
  {
   "cell_type": "code",
   "execution_count": 365,
   "metadata": {},
   "outputs": [],
   "source": [
    "def crop_image(image, point_row, point_col, side):\n",
    "    cut_image = image[point_row : point_row + side , point_col : point_col + side]\n",
    "    resized_image = cv2.resize(cut_image, (256, 256)) \n",
    "    return resized_image"
   ]
  },
  {
   "cell_type": "code",
   "execution_count": 366,
   "metadata": {},
   "outputs": [],
   "source": [
    "# rotate image without cutting angles\n",
    "def rotate_image(image, angle):\n",
    "    (h, w) = image.shape[:2]\n",
    "    (cX, cY) = (w // 2, h // 2)\n",
    "    M = cv2.getRotationMatrix2D((cX, cY), -angle, 1.0)\n",
    "    cos = np.abs(M[0, 0])\n",
    "    sin = np.abs(M[0, 1])\n",
    "    nW = int((h * sin) + (w * cos))\n",
    "    nH = int((h * cos) + (w * sin))\n",
    "    M[0, 2] += (nW / 2) - cX\n",
    "    M[1, 2] += (nH / 2) - cY\n",
    "    # mark an area outside of a page with gray\n",
    "    return cv2.warpAffine(image, M, (nW, nH), borderValue=100)"
   ]
  },
  {
   "cell_type": "code",
   "execution_count": 367,
   "metadata": {},
   "outputs": [],
   "source": [
    "mask = cv2.imread(mask_file, 0)\n",
    "img = cv2.imread(image_file, -1)\n",
    "\n",
    "for i in range(pairs_count):\n",
    "\n",
    "    # choose randon angle and rotate the image\n",
    "    rand_angle = random.uniform(0, 360)\n",
    "    rotated_mask = rotate_image(mask, rand_angle)\n",
    "    rotated_image = rotate_image(img, rand_angle)\n",
    "    \n",
    "    # we can also flip the image\n",
    "    flip_action = random.choice([0,1,-1,-1])\n",
    "    if flip_action >= 0:\n",
    "        rotated_mask = cv2.flip(rotated_mask, flip_action)\n",
    "        rotated_image = cv2.flip(rotated_image, flip_action)\n",
    "    \n",
    "    # define parameters of Starting Point and size of square side to crop\n",
    "    sp_row, sp_col, side = search_crop_parameters(rotated_mask)\n",
    "    \n",
    "    # crop and save mask and image\n",
    "    cut_mask = crop_image(rotated_mask, sp_row, sp_col, side)\n",
    "    cut_image = crop_image(rotated_image, sp_row, sp_col, side)\n",
    "    cv2.imwrite(folder_to_save + str(i).zfill(3) + '_mask.jpg', cut_mask)\n",
    "    cv2.imwrite(folder_to_save + str(i).zfill(3) + '_img.jpg', cut_image)\n",
    "\n",
    "    #imgplot = plt.imshow(cut_image, 'gray')\n",
    "    #plt.show()"
   ]
  },
  {
   "cell_type": "code",
   "execution_count": null,
   "metadata": {},
   "outputs": [],
   "source": [
    "        \n"
   ]
  }
 ],
 "metadata": {
  "kernelspec": {
   "display_name": "Python 2",
   "language": "python",
   "name": "python2"
  },
  "language_info": {
   "codemirror_mode": {
    "name": "ipython",
    "version": 2
   },
   "file_extension": ".py",
   "mimetype": "text/x-python",
   "name": "python",
   "nbconvert_exporter": "python",
   "pygments_lexer": "ipython2",
   "version": "2.7.14"
  }
 },
 "nbformat": 4,
 "nbformat_minor": 2
}
